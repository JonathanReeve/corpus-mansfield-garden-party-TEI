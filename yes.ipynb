{
 "cells": [
  {
   "cell_type": "code",
   "execution_count": 20,
   "metadata": {
    "collapsed": false
   },
   "outputs": [],
   "source": [
    "from bs4 import BeautifulSoup  # For processing XMLfrom BeautifulSoup\n",
    "import nltk\n",
    "import re\n",
    "import string"
   ]
  },
  {
   "cell_type": "code",
   "execution_count": 11,
   "metadata": {
    "collapsed": true
   },
   "outputs": [],
   "source": [
    "doc = open('garden-party.md').read()"
   ]
  },
  {
   "cell_type": "code",
   "execution_count": 14,
   "metadata": {
    "collapsed": false
   },
   "outputs": [],
   "source": [
    "words = nltk.word_tokenize(doc)"
   ]
  },
  {
   "cell_type": "code",
   "execution_count": 25,
   "metadata": {
    "collapsed": false
   },
   "outputs": [],
   "source": [
    "nopunct = [word for word in words if word not in string.punctuation]"
   ]
  },
  {
   "cell_type": "code",
   "execution_count": 44,
   "metadata": {
    "collapsed": false
   },
   "outputs": [],
   "source": [
    "def cleanWords(words): \n",
    "    nopunct = [word for word in words if word not in string.punctuation]\n",
    "    lower = [word.lower() for word in nopunct]\n",
    "    return lower"
   ]
  },
  {
   "cell_type": "code",
   "execution_count": 46,
   "metadata": {
    "collapsed": false
   },
   "outputs": [],
   "source": [
    "cleanwords = cleanWords(words)"
   ]
  },
  {
   "cell_type": "code",
   "execution_count": 52,
   "metadata": {
    "collapsed": false
   },
   "outputs": [
    {
     "name": "stdout",
     "output_type": "stream",
     "text": [
      "13\n"
     ]
    }
   ],
   "source": [
    "counter = 0\n",
    "for word in cleanwords: \n",
    "    if word == 'yes':\n",
    "        counter+=1\n",
    "print(counter)"
   ]
  },
  {
   "cell_type": "code",
   "execution_count": 53,
   "metadata": {
    "collapsed": true
   },
   "outputs": [],
   "source": [
    "t = nltk.Text(cleanwords)"
   ]
  },
  {
   "cell_type": "code",
   "execution_count": 55,
   "metadata": {
    "collapsed": false
   },
   "outputs": [
    {
     "name": "stdout",
     "output_type": "stream",
     "text": [
      "Displaying 13 of 13 matches:\n",
      "rybody is certain of knowing hundreds yes literally hundreds had come out in a \n",
      "elephone old girl '' the telephone `` yes yes oh yes kitty good morning dear co\n",
      "hone old girl '' the telephone `` yes yes oh yes kitty good morning dear come t\n",
      "d girl '' the telephone `` yes yes oh yes kitty good morning dear come to lunch\n",
      "meringue-shells and what 's left over yes is n't it a perfect morning your whit\n",
      " 's quite right '' she said calmly `` yes i ordered them are n't they lovely ''\n",
      "d lemon-curd have you done that '' `` yes '' `` egg and— '' mrs. sheridan held \n",
      "id laura looking over her shoulder `` yes of course olive what a horrible combi\n",
      " should n't we '' laura had to say `` yes '' to that but she felt it was all wr\n",
      "have some fresh coffee i 'm exhausted yes it 's been very successful but oh the\n",
      "e pale sky and all she thought was `` yes it was the most successful party '' n\n",
      "the shadow `` is that you laura '' `` yes '' `` mother was getting anxious was \n",
      "etting anxious was it all right '' `` yes quite oh laurie '' she took his arm s\n"
     ]
    }
   ],
   "source": [
    "t.concordance('yes')"
   ]
  },
  {
   "cell_type": "code",
   "execution_count": null,
   "metadata": {
    "collapsed": true
   },
   "outputs": [],
   "source": []
  }
 ],
 "metadata": {
  "kernelspec": {
   "display_name": "Python 3",
   "language": "python",
   "name": "python3"
  },
  "language_info": {
   "codemirror_mode": {
    "name": "ipython",
    "version": 3
   },
   "file_extension": ".py",
   "mimetype": "text/x-python",
   "name": "python",
   "nbconvert_exporter": "python",
   "pygments_lexer": "ipython3",
   "version": "3.5.0"
  }
 },
 "nbformat": 4,
 "nbformat_minor": 0
}
