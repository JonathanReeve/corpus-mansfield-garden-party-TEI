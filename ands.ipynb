{
 "cells": [
  {
   "cell_type": "code",
   "execution_count": 86,
   "metadata": {
    "collapsed": true
   },
   "outputs": [],
   "source": [
    "from bs4 import BeautifulSoup  # For processing XMLfrom BeautifulSoup\n",
    "import nltk\n",
    "import re"
   ]
  },
  {
   "cell_type": "code",
   "execution_count": 87,
   "metadata": {
    "collapsed": true
   },
   "outputs": [],
   "source": [
    "doc = open('garden-party.xml').read()\n",
    "soup = BeautifulSoup(doc, 'lxml')"
   ]
  },
  {
   "cell_type": "code",
   "execution_count": 88,
   "metadata": {
    "collapsed": true
   },
   "outputs": [],
   "source": [
    "segs = soup.findAll('seg')"
   ]
  },
  {
   "cell_type": "code",
   "execution_count": 89,
   "metadata": {
    "collapsed": false
   },
   "outputs": [],
   "source": [
    "text = \"\"\n",
    "for seg in segs: \n",
    "    text += seg.text + \" \""
   ]
  },
  {
   "cell_type": "code",
   "execution_count": 90,
   "metadata": {
    "collapsed": false
   },
   "outputs": [],
   "source": [
    "def cleanText(text): \n",
    "    text = text.replace('\\n', ' ') # change newlines to spaces\n",
    "    text = text.replace('\\t', ' ') # change tabs to spaces\n",
    "    text = re.sub('\\s+', ' ', text).strip() # remove redundant whitespace\n",
    "    return text\n",
    "\n",
    "text = cleanText(text)"
   ]
  },
  {
   "cell_type": "code",
   "execution_count": 91,
   "metadata": {
    "collapsed": false,
    "scrolled": true
   },
   "outputs": [],
   "source": [
    "sents = nltk.sent_tokenize(text) # break the text up into sentences"
   ]
  },
  {
   "cell_type": "code",
   "execution_count": 92,
   "metadata": {
    "collapsed": false
   },
   "outputs": [
    {
     "data": {
      "text/plain": [
       "606"
      ]
     },
     "execution_count": 92,
     "metadata": {},
     "output_type": "execute_result"
    }
   ],
   "source": [
    "len(sents) # how many sentences? "
   ]
  },
  {
   "cell_type": "code",
   "execution_count": 85,
   "metadata": {
    "collapsed": false
   },
   "outputs": [
    {
     "data": {
      "text/plain": [
       "['And after all the weather was ideal.',\n",
       " 'And now she looked at the others, they were smiling too.',\n",
       " 'And what a beautiful morning!',\n",
       " \"And she pointed to the lily-lawn with the hand that didn't hold the bread-and-butter.\",\n",
       " 'And they were so lovely, with their broad, gleaming leaves, and their clusters of yellow fruit.',\n",
       " 'And Laura sat back.',\n",
       " 'And now there came a long, chuckling absurd sound.',\n",
       " 'And there were two tiny spots of sun, one on the inkpot, one on a silver photograph frame, playing too.',\n",
       " 'And I suddenly thought for once in my life I shall have enough canna lilies.',\n",
       " \"And the children knew by her face that she hadn't got them.\",\n",
       " 'And she said to Sadie firmly, \"Tell cook I\\'ll let her have them in ten minutes.\"',\n",
       " 'And—and, Jose, pacify cook if you do go into the kitchen, will you?',\n",
       " 'And he said to the cook, \"He\\'s left a wife and five little ones.\"',\n",
       " 'And Mrs. Sheridan turned round from her dressing-table.',\n",
       " 'And she held up her hand-mirror.',\n",
       " 'And it\\'s not very sympathetic to spoil everybody\\'s enjoyment as you\\'re doing now.\"',\n",
       " 'And now she hoped her mother was right.',\n",
       " 'And somehow that seemed quite the best plan...',\n",
       " 'And she followed him into the hall.',\n",
       " 'And Laura, glowing, answered softly, \"Have you had tea?',\n",
       " 'And the perfect afternoon slowly ripened, slowly faded, slowly its petals closed.',\n",
       " 'And they all of them sat down in the deserted marquee.',\n",
       " \"And she's sure to have neighbours calling in and so on.\",\n",
       " 'And, Laura!',\n",
       " 'And it seemed to her that kisses, voices, tinkling spoons, laughter, the smell of crushed grass were somehow inside her.',\n",
       " 'And the big hat with the velvet streamer—if only it was another hat!',\n",
       " 'And the poor face puckered up again.',\n",
       " 'And again she began, \"You\\'ll excuse her, miss, I\\'m sure,\" and her face, swollen too, tried an oily smile.',\n",
       " \"And this time she didn't wait for Em's sister.\"]"
      ]
     },
     "execution_count": 85,
     "metadata": {},
     "output_type": "execute_result"
    }
   ],
   "source": [
    "ands = [sent for sent in sents if re.search(r'^And', sent) is not None]\n",
    "ands # sentences that start with \"And\""
   ]
  },
  {
   "cell_type": "code",
   "execution_count": 81,
   "metadata": {
    "collapsed": false
   },
   "outputs": [
    {
     "data": {
      "text/plain": [
       "29"
      ]
     },
     "execution_count": 81,
     "metadata": {},
     "output_type": "execute_result"
    }
   ],
   "source": [
    "len(ands) # number of sentences that start with \"And\""
   ]
  },
  {
   "cell_type": "code",
   "execution_count": 84,
   "metadata": {
    "collapsed": false
   },
   "outputs": [
    {
     "data": {
      "text/plain": [
       "4.785478547854786"
      ]
     },
     "execution_count": 84,
     "metadata": {},
     "output_type": "execute_result"
    }
   ],
   "source": [
    "proportionOfAnds = (len(ands) / len(sents)) * 100 \n",
    "proportionOfAnds # percentage of sentences that start with \"And\""
   ]
  },
  {
   "cell_type": "markdown",
   "metadata": {
    "collapsed": true
   },
   "source": [
    "Now let's find sentences that begin with \"but.\""
   ]
  },
  {
   "cell_type": "code",
   "execution_count": 94,
   "metadata": {
    "collapsed": false
   },
   "outputs": [
    {
     "data": {
      "text/plain": [
       "['But Meg could not possibly go and supervise the men.',\n",
       " 'But that sounded so fearfully affected that she was ashamed, and stammered like a little girl, \"Oh—er—have you come—is it about the marquee?\"',\n",
       " 'But she did quite follow him.',\n",
       " 'But the tall fellow interrupted.',\n",
       " 'But the air!',\n",
       " 'But at that moment Mrs. Sheridan joined them.',\n",
       " 'But at the word \"Good-bye,\" and although the piano sounded more desperate than ever, her face broke into a brilliant, dreadfully unsympathetic smile.',\n",
       " 'But now Sadie interrupted them.',\n",
       " \"But the back door was blocked by cook, Sadie, Godber's man and Hans.\",\n",
       " \"But Godber's man wasn't going to have his story snatched from under his very nose.\",\n",
       " 'But Jose was still more amazed.',\n",
       " 'But since they were grown up, Laura and Laurie on their prowls sometimes walked through.',\n",
       " 'But still one must go everywhere; one must see everything.',\n",
       " 'But it all seemed blurred, unreal, like a picture in the newspaper.',\n",
       " 'But oh, these parties, these parties!',\n",
       " 'But to her horror the woman answered, \"Walk in please, miss,\" and she was shut in the passage.',\n",
       " \"But all the same you had to cry, and she couldn't go out of the room without saying something to him.\",\n",
       " 'But Laurie—\" She stopped, she looked at her brother.']"
      ]
     },
     "execution_count": 94,
     "metadata": {},
     "output_type": "execute_result"
    }
   ],
   "source": [
    "buts = [sent for sent in sents if re.search(r'^But', sent) is not None]\n",
    "buts # sentences that start with \"But\""
   ]
  },
  {
   "cell_type": "code",
   "execution_count": 95,
   "metadata": {
    "collapsed": false
   },
   "outputs": [
    {
     "data": {
      "text/plain": [
       "18"
      ]
     },
     "execution_count": 95,
     "metadata": {},
     "output_type": "execute_result"
    }
   ],
   "source": [
    "len(buts)"
   ]
  },
  {
   "cell_type": "code",
   "execution_count": 96,
   "metadata": {
    "collapsed": false
   },
   "outputs": [
    {
     "data": {
      "text/plain": [
       "2.9702970297029703"
      ]
     },
     "execution_count": 96,
     "metadata": {},
     "output_type": "execute_result"
    }
   ],
   "source": [
    "(len(buts) / len(sents)) * 100"
   ]
  },
  {
   "cell_type": "code",
   "execution_count": null,
   "metadata": {
    "collapsed": true
   },
   "outputs": [],
   "source": []
  }
 ],
 "metadata": {
  "kernelspec": {
   "display_name": "Python 3",
   "language": "python",
   "name": "python3"
  },
  "language_info": {
   "codemirror_mode": {
    "name": "ipython",
    "version": 3
   },
   "file_extension": ".py",
   "mimetype": "text/x-python",
   "name": "python",
   "nbconvert_exporter": "python",
   "pygments_lexer": "ipython3",
   "version": "3.5.0"
  }
 },
 "nbformat": 4,
 "nbformat_minor": 0
}
